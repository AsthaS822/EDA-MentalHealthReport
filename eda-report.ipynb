{
 "cells": [
  {
   "cell_type": "markdown",
   "metadata": {},
   "source": [
    "# Mental Wellness in the Tech Industry :\n",
    "\n",
    "*a study by the Real Ricardo*\n",
    "\n",
    "The data used in this notebook was downloaded from [Kaggle](https://www.kaggle.com/osmi/mental-health-in-tech-survey).\n",
    "This analysis utilizes data from the comprehensive 2014 Mental Health in Tech survey, originally conducted by OSMI (https://osmihelp.org/).OSMI is a non-profit organization focused on promoting mental wellness awareness and providing resources within the tech and open-source sectors\n",
    "\n",
    "\n",
    "**Below is a description of data in the survey: It includes the type of quetions asked.**\n",
    "\n",
    "| Column  | Description  |\n",
    "|---|---|\n",
    "| Timestamp  | Date survey was filled  |\n",
    "| Gender  | Gender identity of surveyed person  |\n",
    "| Country  | Country of residence  |\n",
    "| State  | US residents only  |\n",
    "| self_employed  | Are you self-employed?   |\n",
    "| family_history  | Do you have a family history of mental illness?  |\n",
    "| treatment  | Have you sought treatment for a mental health condition?  |\n",
    "| work_interfere  | If you have a mental health condition, do you feel that it interferes with your work?  |\n",
    "| no_employees  | How many employees does your company or organization have?  |\n",
    "| remote_work  | Do you work remotely (outside of an office) at least 50% of the time?  |\n",
    "| tech_company  | Is your employer primarily a tech company/organization?  |\n",
    "| benefits  | Does your employer provide mental health benefits?  |\n",
    "| care_options  | Do you know the options for mental health care your employer provides?  |\n",
    "| wellness_program  | Has your employer ever discussed mental health as part of an employee wellness program?  |\n",
    "| seek_help  | Does your employer provide resources to learn more about mental health issues and how to seek help?  |\n",
    "| anonymity  | Is your anonymity protected if you choose to take advantage of mental health or substance abuse treatment resources?  |\n",
    "| leave  | How easy is it for you to take medical leave for a mental health condition?  |\n",
    "| mental_health_consequence  | Do you think that discussing a mental health issue with your employer would have negative consequences?  |\n",
    "| phys_health_consequence  | Do you think that discussing a physical health issue with your employer would have negative consequences?  |\n",
    "| coworkers  | Would you be willing to discuss a mental health issue with your coworkers?  |\n",
    "| supervisors  | Would you be willing to discuss a mental health issue with your direct supervisor(s)?  |\n",
    "| mental_health_interview  | Would you bring up a mental health issue with a potential employer in an interview?  |\n",
    "| mental_vs_physical  | Do you feel that your employer takes mental health as seriously as physical health?  |\n",
    "| obs_consequence  | Have you heard of or observed negative consequences for coworkers with mental health conditions in your workplace?  |\n",
    "| comments  | Any additional notes or comments?  |"
   ]
  },
  {
   "cell_type": "code",
   "execution_count": 1,
   "metadata": {},
   "outputs": [],
   "source": [
    "# importing libraries\n",
    "import numpy as np\n",
    "import pandas as pd\n",
    "import matplotlib.pyplot as plt\n",
    "from scipy import stats\n",
    "import seaborn as sns\n",
    "\n",
    "# choosing color palette\n",
    "flatui = [\"#9b59b6\", \"#3498db\", \"#95a5a6\", \"#e74c3c\", \"#34495e\", \"#2ecc71\"]"
   ]
  },
  {
   "cell_type": "markdown",
   "metadata": {},
   "source": [
    "## 1. Data Cleaning"
   ]
  },
  {
   "cell_type": "code",
   "execution_count": 2,
   "metadata": {},
   "outputs": [
    {
     "data": {
      "text/html": [
       "<div>\n",
       "<style scoped>\n",
       "    .dataframe tbody tr th:only-of-type {\n",
       "        vertical-align: middle;\n",
       "    }\n",
       "\n",
       "    .dataframe tbody tr th {\n",
       "        vertical-align: top;\n",
       "    }\n",
       "\n",
       "    .dataframe thead th {\n",
       "        text-align: right;\n",
       "    }\n",
       "</style>\n",
       "<table border=\"1\" class=\"dataframe\">\n",
       "  <thead>\n",
       "    <tr style=\"text-align: right;\">\n",
       "      <th></th>\n",
       "      <th>Timestamp</th>\n",
       "      <th>Age</th>\n",
       "      <th>Gender</th>\n",
       "      <th>Country</th>\n",
       "      <th>state</th>\n",
       "      <th>self_employed</th>\n",
       "      <th>family_history</th>\n",
       "      <th>treatment</th>\n",
       "      <th>work_interfere</th>\n",
       "      <th>no_employees</th>\n",
       "      <th>...</th>\n",
       "      <th>leave</th>\n",
       "      <th>mental_health_consequence</th>\n",
       "      <th>phys_health_consequence</th>\n",
       "      <th>coworkers</th>\n",
       "      <th>supervisor</th>\n",
       "      <th>mental_health_interview</th>\n",
       "      <th>phys_health_interview</th>\n",
       "      <th>mental_vs_physical</th>\n",
       "      <th>obs_consequence</th>\n",
       "      <th>comments</th>\n",
       "    </tr>\n",
       "  </thead>\n",
       "  <tbody>\n",
       "    <tr>\n",
       "      <th>0</th>\n",
       "      <td>2014-08-27 11:29:31</td>\n",
       "      <td>37</td>\n",
       "      <td>Female</td>\n",
       "      <td>United States</td>\n",
       "      <td>IL</td>\n",
       "      <td>NaN</td>\n",
       "      <td>No</td>\n",
       "      <td>Yes</td>\n",
       "      <td>Often</td>\n",
       "      <td>6-25</td>\n",
       "      <td>...</td>\n",
       "      <td>Somewhat easy</td>\n",
       "      <td>No</td>\n",
       "      <td>No</td>\n",
       "      <td>Some of them</td>\n",
       "      <td>Yes</td>\n",
       "      <td>No</td>\n",
       "      <td>Maybe</td>\n",
       "      <td>Yes</td>\n",
       "      <td>No</td>\n",
       "      <td>NaN</td>\n",
       "    </tr>\n",
       "    <tr>\n",
       "      <th>1</th>\n",
       "      <td>2014-08-27 11:29:37</td>\n",
       "      <td>44</td>\n",
       "      <td>M</td>\n",
       "      <td>United States</td>\n",
       "      <td>IN</td>\n",
       "      <td>NaN</td>\n",
       "      <td>No</td>\n",
       "      <td>No</td>\n",
       "      <td>Rarely</td>\n",
       "      <td>More than 1000</td>\n",
       "      <td>...</td>\n",
       "      <td>Don't know</td>\n",
       "      <td>Maybe</td>\n",
       "      <td>No</td>\n",
       "      <td>No</td>\n",
       "      <td>No</td>\n",
       "      <td>No</td>\n",
       "      <td>No</td>\n",
       "      <td>Don't know</td>\n",
       "      <td>No</td>\n",
       "      <td>NaN</td>\n",
       "    </tr>\n",
       "    <tr>\n",
       "      <th>2</th>\n",
       "      <td>2014-08-27 11:29:44</td>\n",
       "      <td>32</td>\n",
       "      <td>Male</td>\n",
       "      <td>Canada</td>\n",
       "      <td>NaN</td>\n",
       "      <td>NaN</td>\n",
       "      <td>No</td>\n",
       "      <td>No</td>\n",
       "      <td>Rarely</td>\n",
       "      <td>6-25</td>\n",
       "      <td>...</td>\n",
       "      <td>Somewhat difficult</td>\n",
       "      <td>No</td>\n",
       "      <td>No</td>\n",
       "      <td>Yes</td>\n",
       "      <td>Yes</td>\n",
       "      <td>Yes</td>\n",
       "      <td>Yes</td>\n",
       "      <td>No</td>\n",
       "      <td>No</td>\n",
       "      <td>NaN</td>\n",
       "    </tr>\n",
       "    <tr>\n",
       "      <th>3</th>\n",
       "      <td>2014-08-27 11:29:46</td>\n",
       "      <td>31</td>\n",
       "      <td>Male</td>\n",
       "      <td>United Kingdom</td>\n",
       "      <td>NaN</td>\n",
       "      <td>NaN</td>\n",
       "      <td>Yes</td>\n",
       "      <td>Yes</td>\n",
       "      <td>Often</td>\n",
       "      <td>26-100</td>\n",
       "      <td>...</td>\n",
       "      <td>Somewhat difficult</td>\n",
       "      <td>Yes</td>\n",
       "      <td>Yes</td>\n",
       "      <td>Some of them</td>\n",
       "      <td>No</td>\n",
       "      <td>Maybe</td>\n",
       "      <td>Maybe</td>\n",
       "      <td>No</td>\n",
       "      <td>Yes</td>\n",
       "      <td>NaN</td>\n",
       "    </tr>\n",
       "    <tr>\n",
       "      <th>4</th>\n",
       "      <td>2014-08-27 11:30:22</td>\n",
       "      <td>31</td>\n",
       "      <td>Male</td>\n",
       "      <td>United States</td>\n",
       "      <td>TX</td>\n",
       "      <td>NaN</td>\n",
       "      <td>No</td>\n",
       "      <td>No</td>\n",
       "      <td>Never</td>\n",
       "      <td>100-500</td>\n",
       "      <td>...</td>\n",
       "      <td>Don't know</td>\n",
       "      <td>No</td>\n",
       "      <td>No</td>\n",
       "      <td>Some of them</td>\n",
       "      <td>Yes</td>\n",
       "      <td>Yes</td>\n",
       "      <td>Yes</td>\n",
       "      <td>Don't know</td>\n",
       "      <td>No</td>\n",
       "      <td>NaN</td>\n",
       "    </tr>\n",
       "  </tbody>\n",
       "</table>\n",
       "<p>5 rows × 27 columns</p>\n",
       "</div>"
      ],
      "text/plain": [
       "             Timestamp  Age  Gender         Country state self_employed  \\\n",
       "0  2014-08-27 11:29:31   37  Female   United States    IL           NaN   \n",
       "1  2014-08-27 11:29:37   44       M   United States    IN           NaN   \n",
       "2  2014-08-27 11:29:44   32    Male          Canada   NaN           NaN   \n",
       "3  2014-08-27 11:29:46   31    Male  United Kingdom   NaN           NaN   \n",
       "4  2014-08-27 11:30:22   31    Male   United States    TX           NaN   \n",
       "\n",
       "  family_history treatment work_interfere    no_employees  ...  \\\n",
       "0             No       Yes          Often            6-25  ...   \n",
       "1             No        No         Rarely  More than 1000  ...   \n",
       "2             No        No         Rarely            6-25  ...   \n",
       "3            Yes       Yes          Often          26-100  ...   \n",
       "4             No        No          Never         100-500  ...   \n",
       "\n",
       "                leave mental_health_consequence phys_health_consequence  \\\n",
       "0       Somewhat easy                        No                      No   \n",
       "1          Don't know                     Maybe                      No   \n",
       "2  Somewhat difficult                        No                      No   \n",
       "3  Somewhat difficult                       Yes                     Yes   \n",
       "4          Don't know                        No                      No   \n",
       "\n",
       "      coworkers supervisor mental_health_interview phys_health_interview  \\\n",
       "0  Some of them        Yes                      No                 Maybe   \n",
       "1            No         No                      No                    No   \n",
       "2           Yes        Yes                     Yes                   Yes   \n",
       "3  Some of them         No                   Maybe                 Maybe   \n",
       "4  Some of them        Yes                     Yes                   Yes   \n",
       "\n",
       "  mental_vs_physical obs_consequence comments  \n",
       "0                Yes              No      NaN  \n",
       "1         Don't know              No      NaN  \n",
       "2                 No              No      NaN  \n",
       "3                 No             Yes      NaN  \n",
       "4         Don't know              No      NaN  \n",
       "\n",
       "[5 rows x 27 columns]"
      ]
     },
     "execution_count": 2,
     "metadata": {},
     "output_type": "execute_result"
    }
   ],
   "source": [
    "# load data into pandas dataframe and explore columns and first rows\n",
    "survey = pd.read_csv('survey.csv')\n",
    "survey.head()"
   ]
  },
  {
   "cell_type": "code",
   "execution_count": 3,
   "metadata": {},
   "outputs": [
    {
     "name": "stdout",
     "output_type": "stream",
     "text": [
      "timestamp                    object\n",
      "age                           int64\n",
      "gender                       object\n",
      "country                      object\n",
      "state                        object\n",
      "self_employed                object\n",
      "family_history               object\n",
      "treatment                    object\n",
      "work_interfere               object\n",
      "no_employees                 object\n",
      "remote_work                  object\n",
      "tech_company                 object\n",
      "benefits                     object\n",
      "care_options                 object\n",
      "wellness_program             object\n",
      "seek_help                    object\n",
      "anonymity                    object\n",
      "leave                        object\n",
      "mental_health_consequence    object\n",
      "phys_health_consequence      object\n",
      "coworkers                    object\n",
      "supervisor                   object\n",
      "mental_health_interview      object\n",
      "phys_health_interview        object\n",
      "mental_vs_physical           object\n",
      "obs_consequence              object\n",
      "comments                     object\n",
      "dtype: object\n"
     ]
    }
   ],
   "source": [
    "# renaming columns to have all lowercase\n",
    "survey.columns = [col.lower() for col in survey.columns]\n",
    "\n",
    "#If we look here all data types are object except for age which is int.\n",
    "print(survey.dtypes)"
   ]
  },
  {
   "cell_type": "markdown",
   "metadata": {},
   "source": [
    "- Cleaning the Survey Data: What We Did and Why\n",
    "\n",
    "Removing Useless Columns:\n",
    "We did not use  several columns that wouldn't help the analysis:\n",
    "\n",
    "Location data (Timestamp, Country, State): The data for specific regions was sparse, so trying to analyze it by region would give unreliable results.\n",
    "\n",
    "Text comments (comments): Removed this field to focus purely on the structured, quantifiable data."
   ]
  },
  {
   "cell_type": "code",
   "execution_count": 4,
   "metadata": {},
   "outputs": [],
   "source": [
    "survey.drop(['timestamp', 'state', 'comments', 'country'], axis= 1, inplace= True)"
   ]
  },
  {
   "cell_type": "code",
   "execution_count": 5,
   "metadata": {},
   "outputs": [],
   "source": [
    "#Fixing and Validating Age \n",
    "#after finding some weird responses in the age column ('such as 99999999 and -1729')\n",
    "# i decided to only include 'valid' numbers for age\n",
    "survey['age'] = survey['age'].apply(lambda x: x if 0 < x < 100 else np.nan)"
   ]
  },
  {
   "cell_type": "code",
   "execution_count": 6,
   "metadata": {
    "scrolled": true
   },
   "outputs": [
    {
     "data": {
      "text/plain": [
       "gender\n",
       "male      994\n",
       "female    247\n",
       "other      18\n",
       "Name: count, dtype: int64"
      ]
     },
     "execution_count": 6,
     "metadata": {},
     "output_type": "execute_result"
    }
   ],
   "source": [
    "# first lower case and strip eveything to decrease options\n",
    "survey['gender'] = survey['gender'].apply(lambda x: x.lower().strip())\n",
    "\n",
    "# based on the replies made these lists :\n",
    "male = ['male', 'm', 'make', 'cis male', 'man', 'cis man', 'msle', 'malr', 'mail', 'maile', 'something kinda male?', 'ostensibly male, unsure what that really means', 'male-ish', 'guy (-ish) ^_^', 'mal', 'male (cis)']\n",
    "female = ['female', 'f', 'woman', 'female (cis)', 'cis-female/femme', 'femake', 'cis female', 'femail']\n",
    "\n",
    "def regender(gender_input):\n",
    "    \n",
    "    \"\"\"\n",
    "    Input: a string about gender\n",
    "    Output: male, female or other depending on our dictionary\n",
    "    \n",
    "    \"\"\" \n",
    "    if gender_input in male:\n",
    "        return 'male'\n",
    "    elif gender_input in female:\n",
    "        return 'female'\n",
    "    else:\n",
    "        return 'other'\n",
    "    \n",
    "survey['gender'] = survey['gender'].apply(regender)\n",
    "\n",
    "# check the final results\n",
    "survey.gender.value_counts(dropna= False)"
   ]
  },
  {
   "cell_type": "code",
   "execution_count": 7,
   "metadata": {},
   "outputs": [
    {
     "name": "stdout",
     "output_type": "stream",
     "text": [
      "age (%): 0.003971405877680699\n",
      "self_employed (%): 0.014297061159650517\n",
      "work_interfere (%): 0.2096902303415409\n",
      "self_employed\n",
      "No            1092\n",
      "Yes            144\n",
      "Don't know      18\n",
      "Name: count, dtype: int64\n"
     ]
    },
    {
     "name": "stderr",
     "output_type": "stream",
     "text": [
      "C:\\Users\\Admin\\AppData\\Local\\Temp\\ipykernel_6052\\763136699.py:11: FutureWarning: Setting an item of incompatible dtype is deprecated and will raise in a future error of pandas. Value 'Don't know' has dtype incompatible with float64, please explicitly cast to a compatible dtype first.\n",
      "  survey[col].fillna(\"Don't know\", inplace= True)\n"
     ]
    }
   ],
   "source": [
    "# checking for nans\n",
    "nan_cols = []\n",
    "for col in survey.columns:\n",
    "    if survey[col].isnull().sum():\n",
    "        print(col + ' (%): ' + str(sum(survey[col].isnull())/len(survey)))\n",
    "        nan_cols += [col]\n",
    "\n",
    "# nans are present in the self-employed column and in the work_interfere column.\n",
    "# at most there are 20% of values with nans so we'll replace with 'Don't know'\n",
    "for col in nan_cols:\n",
    "    survey[col].fillna(\"Don't know\", inplace= True)\n",
    "\n",
    "#It is better to drop the rows without age.\n",
    "survey = survey[survey.age != \"Don't know\"]\n",
    "\n",
    "# in the context of our aim, we need to drop everyone who is self-employed\n",
    "print(survey['self_employed'].value_counts())\n",
    "survey.loc[survey['self_employed'] == 'Yes'] = np.nan\n",
    "survey.dropna(inplace=True)"
   ]
  },
  {
   "cell_type": "markdown",
   "metadata": {},
   "source": [
    "- **To effectively analyze the remaining columns, we should first identify which ones are binary/categorical (like Yes/No, or a few options) and then inspect the unique values for each of those columns.**\n"
   ]
  },
  {
   "cell_type": "code",
   "execution_count": 8,
   "metadata": {},
   "outputs": [
    {
     "data": {
      "text/plain": [
       "{'gender': ['female', 'male', 'other'],\n",
       " 'self_employed': [\"Don't know\", 'No'],\n",
       " 'family_history': ['No', 'Yes'],\n",
       " 'treatment': ['Yes', 'No'],\n",
       " 'work_interfere': ['Often', 'Rarely', 'Never', 'Sometimes', \"Don't know\"],\n",
       " 'no_employees': ['6-25',\n",
       "  'More than 1000',\n",
       "  '26-100',\n",
       "  '100-500',\n",
       "  '1-5',\n",
       "  '500-1000'],\n",
       " 'remote_work': ['No', 'Yes'],\n",
       " 'tech_company': ['Yes', 'No'],\n",
       " 'benefits': ['Yes', \"Don't know\", 'No'],\n",
       " 'care_options': ['Not sure', 'No', 'Yes'],\n",
       " 'wellness_program': ['No', \"Don't know\", 'Yes'],\n",
       " 'seek_help': ['Yes', \"Don't know\", 'No'],\n",
       " 'anonymity': ['Yes', \"Don't know\", 'No'],\n",
       " 'leave': ['Somewhat easy',\n",
       "  \"Don't know\",\n",
       "  'Somewhat difficult',\n",
       "  'Very difficult',\n",
       "  'Very easy'],\n",
       " 'mental_health_consequence': ['No', 'Maybe', 'Yes'],\n",
       " 'phys_health_consequence': ['No', 'Yes', 'Maybe'],\n",
       " 'coworkers': ['Some of them', 'No', 'Yes'],\n",
       " 'supervisor': ['Yes', 'No', 'Some of them'],\n",
       " 'mental_health_interview': ['No', 'Yes', 'Maybe'],\n",
       " 'phys_health_interview': ['Maybe', 'No', 'Yes'],\n",
       " 'mental_vs_physical': ['Yes', \"Don't know\", 'No'],\n",
       " 'obs_consequence': ['No', 'Yes']}"
      ]
     },
     "execution_count": 8,
     "metadata": {},
     "output_type": "execute_result"
    }
   ],
   "source": [
    "# unique answers for every column\n",
    "exclude = ['age']\n",
    "possible_answers = {col:[i for i in survey[col].unique()] for col in survey.columns if col not in exclude}\n",
    "possible_answers"
   ]
  },
  {
   "cell_type": "markdown",
   "metadata": {},
   "source": [
    "- **There are many answers with maybeand not sure ,so normalizing all 'half-answers' to 'Don't know', so changing 'Not sure' and 'Maybes'**\n"
   ]
  },
  {
   "cell_type": "code",
   "execution_count": 9,
   "metadata": {},
   "outputs": [],
   "source": [
    "def replace_uncertainty(survey_answer):\n",
    "    \"\"\"\n",
    "    Uniformizes all uncertain answers.\n",
    "    Input: half-answer (string)\n",
    "    Output: 'Don't know'\n",
    "    \n",
    "    \"\"\"\n",
    "    \n",
    "    uncertainty = ['Maybe', 'Some of them', 'Not sure']\n",
    "    if survey_answer in uncertainty:\n",
    "        return \"Don't know\"\n",
    "    else:\n",
    "        return survey_answer\n",
    "\n",
    "# apply function to all columns\n",
    "for col in survey.columns:\n",
    "    survey[col] = survey[col].apply(replace_uncertainty)"
   ]
  },
  {
   "cell_type": "markdown",
   "metadata": {},
   "source": [
    "- **the column 'care_options' asks the question: \"Do you know the options for mental health care your employer provides?\" and about 30% of the answers are 'Dont know'.** \n",
    "- **Based on what i think: if the answer to a question 'Do you know?' is 'I don't know' - then it implies No.**"
   ]
  },
  {
   "cell_type": "code",
   "execution_count": 10,
   "metadata": {},
   "outputs": [
    {
     "data": {
      "text/plain": [
       "care_options\n",
       "No     730\n",
       "Yes    380\n",
       "Name: count, dtype: int64"
      ]
     },
     "execution_count": 10,
     "metadata": {},
     "output_type": "execute_result"
    }
   ],
   "source": [
    "survey['care_options'] = survey['care_options'].replace(to_replace=\"Don't know\", value= 'No')\n",
    "survey['care_options'].value_counts()"
   ]
  },
  {
   "cell_type": "markdown",
   "metadata": {},
   "source": [
    "## 2. Exploratory Data Analysis"
   ]
  },
  {
   "cell_type": "markdown",
   "metadata": {},
   "source": [
    "**Here , we are applying an agnostic analysis and just make a correlation matrix bewteen all the variables to find out relationship between variables and patterns.**\n",
    "\n",
    "1. The first thing is encoding all the answers as numbers.\n"
   ]
  },
  {
   "cell_type": "code",
   "execution_count": 11,
   "metadata": {},
   "outputs": [],
   "source": [
    "# create a dictionary to map out all the answers in the survey\n",
    "encoding_dict = {'No': -1, \"Don't know\": 0, 'Yes': 1,\n",
    "                 'Never': -2, 'Rarely': -1, 'Sometimes': 1, 'Often': 2,\n",
    "                 'Very difficult': -2, 'Somewhat difficult': -1, 'Somewhat easy': 1, 'Very easy': 2,\n",
    "                 '1-5': 0, '6-25': 1, '26-100': 2, '100-500': 3, '500-1000': 4, 'More than 1000': 5,\n",
    "                 'male': -1, 'other': 0, 'female': 1}"
   ]
  },
  {
   "cell_type": "code",
   "execution_count": 12,
   "metadata": {},
   "outputs": [],
   "source": [
    "# made a copy just to check values\n",
    "survey_coded = survey.copy()\n",
    "\n",
    "# for each column except the ones not excluded change the values in our dictionary\n",
    "for col in survey_coded.columns:\n",
    "    if col not in exclude:\n",
    "        survey_coded[col] = survey_coded[col].map(encoding_dict)"
   ]
  },
  {
   "cell_type": "code",
   "execution_count": 13,
   "metadata": {},
   "outputs": [
    {
     "data": {
      "text/html": [
       "<div>\n",
       "<style scoped>\n",
       "    .dataframe tbody tr th:only-of-type {\n",
       "        vertical-align: middle;\n",
       "    }\n",
       "\n",
       "    .dataframe tbody tr th {\n",
       "        vertical-align: top;\n",
       "    }\n",
       "\n",
       "    .dataframe thead th {\n",
       "        text-align: right;\n",
       "    }\n",
       "</style>\n",
       "<table border=\"1\" class=\"dataframe\">\n",
       "  <thead>\n",
       "    <tr style=\"text-align: right;\">\n",
       "      <th></th>\n",
       "      <th>age</th>\n",
       "      <th>gender</th>\n",
       "      <th>self_employed</th>\n",
       "      <th>family_history</th>\n",
       "      <th>treatment</th>\n",
       "      <th>work_interfere</th>\n",
       "      <th>no_employees</th>\n",
       "      <th>remote_work</th>\n",
       "      <th>tech_company</th>\n",
       "      <th>benefits</th>\n",
       "      <th>...</th>\n",
       "      <th>anonymity</th>\n",
       "      <th>leave</th>\n",
       "      <th>mental_health_consequence</th>\n",
       "      <th>phys_health_consequence</th>\n",
       "      <th>coworkers</th>\n",
       "      <th>supervisor</th>\n",
       "      <th>mental_health_interview</th>\n",
       "      <th>phys_health_interview</th>\n",
       "      <th>mental_vs_physical</th>\n",
       "      <th>obs_consequence</th>\n",
       "    </tr>\n",
       "  </thead>\n",
       "  <tbody>\n",
       "    <tr>\n",
       "      <th>0</th>\n",
       "      <td>37.0</td>\n",
       "      <td>1</td>\n",
       "      <td>0</td>\n",
       "      <td>-1</td>\n",
       "      <td>1</td>\n",
       "      <td>2</td>\n",
       "      <td>1</td>\n",
       "      <td>-1</td>\n",
       "      <td>1</td>\n",
       "      <td>1</td>\n",
       "      <td>...</td>\n",
       "      <td>1</td>\n",
       "      <td>1</td>\n",
       "      <td>-1</td>\n",
       "      <td>-1</td>\n",
       "      <td>0</td>\n",
       "      <td>1</td>\n",
       "      <td>-1</td>\n",
       "      <td>0</td>\n",
       "      <td>1</td>\n",
       "      <td>-1</td>\n",
       "    </tr>\n",
       "    <tr>\n",
       "      <th>1</th>\n",
       "      <td>44.0</td>\n",
       "      <td>-1</td>\n",
       "      <td>0</td>\n",
       "      <td>-1</td>\n",
       "      <td>-1</td>\n",
       "      <td>-1</td>\n",
       "      <td>5</td>\n",
       "      <td>-1</td>\n",
       "      <td>-1</td>\n",
       "      <td>0</td>\n",
       "      <td>...</td>\n",
       "      <td>0</td>\n",
       "      <td>0</td>\n",
       "      <td>0</td>\n",
       "      <td>-1</td>\n",
       "      <td>-1</td>\n",
       "      <td>-1</td>\n",
       "      <td>-1</td>\n",
       "      <td>-1</td>\n",
       "      <td>0</td>\n",
       "      <td>-1</td>\n",
       "    </tr>\n",
       "    <tr>\n",
       "      <th>2</th>\n",
       "      <td>32.0</td>\n",
       "      <td>-1</td>\n",
       "      <td>0</td>\n",
       "      <td>-1</td>\n",
       "      <td>-1</td>\n",
       "      <td>-1</td>\n",
       "      <td>1</td>\n",
       "      <td>-1</td>\n",
       "      <td>1</td>\n",
       "      <td>-1</td>\n",
       "      <td>...</td>\n",
       "      <td>0</td>\n",
       "      <td>-1</td>\n",
       "      <td>-1</td>\n",
       "      <td>-1</td>\n",
       "      <td>1</td>\n",
       "      <td>1</td>\n",
       "      <td>1</td>\n",
       "      <td>1</td>\n",
       "      <td>-1</td>\n",
       "      <td>-1</td>\n",
       "    </tr>\n",
       "    <tr>\n",
       "      <th>3</th>\n",
       "      <td>31.0</td>\n",
       "      <td>-1</td>\n",
       "      <td>0</td>\n",
       "      <td>1</td>\n",
       "      <td>1</td>\n",
       "      <td>2</td>\n",
       "      <td>2</td>\n",
       "      <td>-1</td>\n",
       "      <td>1</td>\n",
       "      <td>-1</td>\n",
       "      <td>...</td>\n",
       "      <td>-1</td>\n",
       "      <td>-1</td>\n",
       "      <td>1</td>\n",
       "      <td>1</td>\n",
       "      <td>0</td>\n",
       "      <td>-1</td>\n",
       "      <td>0</td>\n",
       "      <td>0</td>\n",
       "      <td>-1</td>\n",
       "      <td>1</td>\n",
       "    </tr>\n",
       "    <tr>\n",
       "      <th>4</th>\n",
       "      <td>31.0</td>\n",
       "      <td>-1</td>\n",
       "      <td>0</td>\n",
       "      <td>-1</td>\n",
       "      <td>-1</td>\n",
       "      <td>-2</td>\n",
       "      <td>3</td>\n",
       "      <td>1</td>\n",
       "      <td>1</td>\n",
       "      <td>1</td>\n",
       "      <td>...</td>\n",
       "      <td>0</td>\n",
       "      <td>0</td>\n",
       "      <td>-1</td>\n",
       "      <td>-1</td>\n",
       "      <td>0</td>\n",
       "      <td>1</td>\n",
       "      <td>1</td>\n",
       "      <td>1</td>\n",
       "      <td>0</td>\n",
       "      <td>-1</td>\n",
       "    </tr>\n",
       "    <tr>\n",
       "      <th>...</th>\n",
       "      <td>...</td>\n",
       "      <td>...</td>\n",
       "      <td>...</td>\n",
       "      <td>...</td>\n",
       "      <td>...</td>\n",
       "      <td>...</td>\n",
       "      <td>...</td>\n",
       "      <td>...</td>\n",
       "      <td>...</td>\n",
       "      <td>...</td>\n",
       "      <td>...</td>\n",
       "      <td>...</td>\n",
       "      <td>...</td>\n",
       "      <td>...</td>\n",
       "      <td>...</td>\n",
       "      <td>...</td>\n",
       "      <td>...</td>\n",
       "      <td>...</td>\n",
       "      <td>...</td>\n",
       "      <td>...</td>\n",
       "      <td>...</td>\n",
       "    </tr>\n",
       "    <tr>\n",
       "      <th>1254</th>\n",
       "      <td>26.0</td>\n",
       "      <td>-1</td>\n",
       "      <td>-1</td>\n",
       "      <td>-1</td>\n",
       "      <td>1</td>\n",
       "      <td>0</td>\n",
       "      <td>2</td>\n",
       "      <td>-1</td>\n",
       "      <td>1</td>\n",
       "      <td>-1</td>\n",
       "      <td>...</td>\n",
       "      <td>0</td>\n",
       "      <td>1</td>\n",
       "      <td>-1</td>\n",
       "      <td>-1</td>\n",
       "      <td>0</td>\n",
       "      <td>0</td>\n",
       "      <td>-1</td>\n",
       "      <td>-1</td>\n",
       "      <td>0</td>\n",
       "      <td>-1</td>\n",
       "    </tr>\n",
       "    <tr>\n",
       "      <th>1255</th>\n",
       "      <td>32.0</td>\n",
       "      <td>-1</td>\n",
       "      <td>-1</td>\n",
       "      <td>1</td>\n",
       "      <td>1</td>\n",
       "      <td>2</td>\n",
       "      <td>2</td>\n",
       "      <td>1</td>\n",
       "      <td>1</td>\n",
       "      <td>1</td>\n",
       "      <td>...</td>\n",
       "      <td>1</td>\n",
       "      <td>-1</td>\n",
       "      <td>-1</td>\n",
       "      <td>-1</td>\n",
       "      <td>0</td>\n",
       "      <td>1</td>\n",
       "      <td>-1</td>\n",
       "      <td>-1</td>\n",
       "      <td>1</td>\n",
       "      <td>-1</td>\n",
       "    </tr>\n",
       "    <tr>\n",
       "      <th>1256</th>\n",
       "      <td>34.0</td>\n",
       "      <td>-1</td>\n",
       "      <td>-1</td>\n",
       "      <td>1</td>\n",
       "      <td>1</td>\n",
       "      <td>1</td>\n",
       "      <td>5</td>\n",
       "      <td>-1</td>\n",
       "      <td>1</td>\n",
       "      <td>1</td>\n",
       "      <td>...</td>\n",
       "      <td>0</td>\n",
       "      <td>-1</td>\n",
       "      <td>1</td>\n",
       "      <td>1</td>\n",
       "      <td>-1</td>\n",
       "      <td>-1</td>\n",
       "      <td>-1</td>\n",
       "      <td>-1</td>\n",
       "      <td>-1</td>\n",
       "      <td>-1</td>\n",
       "    </tr>\n",
       "    <tr>\n",
       "      <th>1257</th>\n",
       "      <td>46.0</td>\n",
       "      <td>1</td>\n",
       "      <td>-1</td>\n",
       "      <td>-1</td>\n",
       "      <td>-1</td>\n",
       "      <td>0</td>\n",
       "      <td>3</td>\n",
       "      <td>1</td>\n",
       "      <td>1</td>\n",
       "      <td>-1</td>\n",
       "      <td>...</td>\n",
       "      <td>0</td>\n",
       "      <td>0</td>\n",
       "      <td>1</td>\n",
       "      <td>-1</td>\n",
       "      <td>-1</td>\n",
       "      <td>-1</td>\n",
       "      <td>-1</td>\n",
       "      <td>-1</td>\n",
       "      <td>-1</td>\n",
       "      <td>-1</td>\n",
       "    </tr>\n",
       "    <tr>\n",
       "      <th>1258</th>\n",
       "      <td>25.0</td>\n",
       "      <td>-1</td>\n",
       "      <td>-1</td>\n",
       "      <td>1</td>\n",
       "      <td>1</td>\n",
       "      <td>1</td>\n",
       "      <td>2</td>\n",
       "      <td>-1</td>\n",
       "      <td>-1</td>\n",
       "      <td>1</td>\n",
       "      <td>...</td>\n",
       "      <td>1</td>\n",
       "      <td>0</td>\n",
       "      <td>0</td>\n",
       "      <td>-1</td>\n",
       "      <td>0</td>\n",
       "      <td>-1</td>\n",
       "      <td>-1</td>\n",
       "      <td>-1</td>\n",
       "      <td>0</td>\n",
       "      <td>-1</td>\n",
       "    </tr>\n",
       "  </tbody>\n",
       "</table>\n",
       "<p>1110 rows × 23 columns</p>\n",
       "</div>"
      ],
      "text/plain": [
       "       age  gender  self_employed  family_history  treatment  work_interfere  \\\n",
       "0     37.0       1              0              -1          1               2   \n",
       "1     44.0      -1              0              -1         -1              -1   \n",
       "2     32.0      -1              0              -1         -1              -1   \n",
       "3     31.0      -1              0               1          1               2   \n",
       "4     31.0      -1              0              -1         -1              -2   \n",
       "...    ...     ...            ...             ...        ...             ...   \n",
       "1254  26.0      -1             -1              -1          1               0   \n",
       "1255  32.0      -1             -1               1          1               2   \n",
       "1256  34.0      -1             -1               1          1               1   \n",
       "1257  46.0       1             -1              -1         -1               0   \n",
       "1258  25.0      -1             -1               1          1               1   \n",
       "\n",
       "      no_employees  remote_work  tech_company  benefits  ...  anonymity  \\\n",
       "0                1           -1             1         1  ...          1   \n",
       "1                5           -1            -1         0  ...          0   \n",
       "2                1           -1             1        -1  ...          0   \n",
       "3                2           -1             1        -1  ...         -1   \n",
       "4                3            1             1         1  ...          0   \n",
       "...            ...          ...           ...       ...  ...        ...   \n",
       "1254             2           -1             1        -1  ...          0   \n",
       "1255             2            1             1         1  ...          1   \n",
       "1256             5           -1             1         1  ...          0   \n",
       "1257             3            1             1        -1  ...          0   \n",
       "1258             2           -1            -1         1  ...          1   \n",
       "\n",
       "      leave  mental_health_consequence  phys_health_consequence  coworkers  \\\n",
       "0         1                         -1                       -1          0   \n",
       "1         0                          0                       -1         -1   \n",
       "2        -1                         -1                       -1          1   \n",
       "3        -1                          1                        1          0   \n",
       "4         0                         -1                       -1          0   \n",
       "...     ...                        ...                      ...        ...   \n",
       "1254      1                         -1                       -1          0   \n",
       "1255     -1                         -1                       -1          0   \n",
       "1256     -1                          1                        1         -1   \n",
       "1257      0                          1                       -1         -1   \n",
       "1258      0                          0                       -1          0   \n",
       "\n",
       "      supervisor  mental_health_interview  phys_health_interview  \\\n",
       "0              1                       -1                      0   \n",
       "1             -1                       -1                     -1   \n",
       "2              1                        1                      1   \n",
       "3             -1                        0                      0   \n",
       "4              1                        1                      1   \n",
       "...          ...                      ...                    ...   \n",
       "1254           0                       -1                     -1   \n",
       "1255           1                       -1                     -1   \n",
       "1256          -1                       -1                     -1   \n",
       "1257          -1                       -1                     -1   \n",
       "1258          -1                       -1                     -1   \n",
       "\n",
       "      mental_vs_physical  obs_consequence  \n",
       "0                      1               -1  \n",
       "1                      0               -1  \n",
       "2                     -1               -1  \n",
       "3                     -1                1  \n",
       "4                      0               -1  \n",
       "...                  ...              ...  \n",
       "1254                   0               -1  \n",
       "1255                   1               -1  \n",
       "1256                  -1               -1  \n",
       "1257                  -1               -1  \n",
       "1258                   0               -1  \n",
       "\n",
       "[1110 rows x 23 columns]"
      ]
     },
     "execution_count": 13,
     "metadata": {},
     "output_type": "execute_result"
    }
   ],
   "source": [
    "# let's take a look at our encoded dataframe.\n",
    "survey_coded"
   ]
  },
  {
   "cell_type": "code",
   "execution_count": 14,
   "metadata": {},
   "outputs": [],
   "source": [
    "# make the correlation matrix\n",
    "correlation = survey_coded.corr()"
   ]
  },
  {
   "cell_type": "code",
   "execution_count": 16,
   "metadata": {},
   "outputs": [
    {
     "data": {
      "text/plain": [
       "<Axes: >"
      ]
     },
     "execution_count": 16,
     "metadata": {},
     "output_type": "execute_result"
    },
    {
     "data": {
      "image/png": "[encoded data removed]",
      "text/plain": [
       "<Figure size 1200x800 with 2 Axes>"
      ]
     },
     "metadata": {},
     "output_type": "display_data"
    }
   ],
   "source": [
    "# making a mask to only show half the table cause its duplicated.\n",
    "mask = np.triu(np.ones_like(correlation, dtype=np.bool_))\n",
    "\n",
    "# choosing colors\n",
    "cmap = sns.diverging_palette(220, 10, as_cmap=True)\n",
    "\n",
    "# creating the heatmap\n",
    "plt.figure(figsize=(12, 8))\n",
    "sns.heatmap(correlation, cmap=cmap, mask=mask, annot= False)"
   ]
  },
  {
   "cell_type": "markdown",
   "metadata": {},
   "source": [
    "- **There are way too many variables. It's hard to consider what is important or not.**\n",
    "\n",
    "So, it would be better to use-\n",
    "## 3. Hypothesis-driven analysis"
   ]
  },
  {
   "cell_type": "markdown",
   "metadata": {},
   "source": [
    "**To create a score for the willingness to speak, we combined all the columns that ask 'If you're willing to speak to someone about mental health**\n",
    "\n",
    "**Following the same logic, I combined all the columns that ask about services provided by the company**\n",
    "\n",
    "We combined these columns by adding them together, it was important to make sure they all 'move in the same direction'\n",
    "The result of this are two columns:\n",
    "1. 'workplace_resources', ranges from −6 to 6 and represents the company-level metric of support.\n",
    "2. 'willingness': ranges from −3 to 3 and serves as the employee-level metric of openness. "
   ]
  },
  {
   "cell_type": "code",
   "execution_count": 17,
   "metadata": {},
   "outputs": [],
   "source": [
    "# define columns to combine\n",
    "workplace_resources = ['benefits', \n",
    "                      'wellness_program', \n",
    "                      'anonymity', \n",
    "                      'seek_help', \n",
    "                      'leave']\n",
    "\n",
    "willingness = ['coworkers',\n",
    "               'supervisor',\n",
    "               'mental_health_interview']\n",
    "\n",
    "# add columns together\n",
    "survey_coded['workplace_resources'] = survey_coded.benefits + survey_coded.wellness_program + survey_coded.seek_help + survey_coded.leave + survey_coded.anonymity\n",
    "survey_coded['willingness'] = survey_coded.coworkers + survey_coded.supervisor + survey_coded.mental_health_interview"
   ]
  },
  {
   "cell_type": "code",
   "execution_count": 35,
   "metadata": {},
   "outputs": [],
   "source": [
    "# to plot a histogram\n",
    "\n",
    "def pretty_histogram(data, colname, label, save= False):\n",
    "    \n",
    "    \"\"\"\n",
    "    Input: data (pandas dataframe), column name (str), x label (str), save (bool)\n",
    "    Output: a pretty histogram\n",
    "    \"\"\"\n",
    "\n",
    "    hist = sns.distplot(data[colname], \n",
    "                        bins = data[colname].max() - data[colname].min() + 1,\n",
    "                        kde= False,\n",
    "                        color=flatui[-2],\n",
    "                        hist_kws= {'range': (data[colname].min(), data[colname].max()),\n",
    "                                   'rwidth': 0.95,\n",
    "                                   'alpha': 1})\n",
    "    \n",
    "    hist.set(xlabel= label, ylabel= 'Count')\n",
    "    sns.despine()\n",
    "    \n",
    "    if save:\n",
    "        figure = hist.get_figure()\n",
    "        figure.savefig('figures/' + colname + \"_hist.png\")\n",
    "    "
   ]
  },
  {
   "cell_type": "code",
   "execution_count": 36,
   "metadata": {
    "scrolled": true
   },
   "outputs": [
    {
     "name": "stderr",
     "output_type": "stream",
     "text": [
      "C:\\Users\\Admin\\AppData\\Local\\Temp\\ipykernel_6052\\927601156.py:10: UserWarning: \n",
      "\n",
      "`distplot` is a deprecated function and will be removed in seaborn v0.14.0.\n",
      "\n",
      "Please adapt your code to use either `displot` (a figure-level function with\n",
      "similar flexibility) or `histplot` (an axes-level function for histograms).\n",
      "\n",
      "For a guide to updating your code to use the new functions, please see\n",
      "https://gist.github.com/mwaskom/de44147ed2974457ad6372750bbe5751\n",
      "\n",
      "  hist = sns.distplot(data[colname],\n"
     ]
    },
    {
     "data": {
      "image/png": "[encoded data removed]",
      "text/plain": [
       "<Figure size 640x480 with 1 Axes>"
      ]
     },
     "metadata": {},
     "output_type": "display_data"
    }
   ],
   "source": [
    "# make a histogram for 'Willingness' variable.\n",
    "pretty_histogram(survey_coded, 'willingness', 'Willingness Score', save= False)"
   ]
  },
  {
   "cell_type": "markdown",
   "metadata": {},
   "source": [
    "**This looks like a right skewed distribution, meaning that the majority of people are unwilling to talk about mental health in their work environment.**"
   ]
  },
  {
   "cell_type": "code",
   "execution_count": 20,
   "metadata": {
    "scrolled": true
   },
   "outputs": [
    {
     "name": "stderr",
     "output_type": "stream",
     "text": [
      "C:\\Users\\Admin\\AppData\\Local\\Temp\\ipykernel_6052\\927601156.py:10: UserWarning: \n",
      "\n",
      "`distplot` is a deprecated function and will be removed in seaborn v0.14.0.\n",
      "\n",
      "Please adapt your code to use either `displot` (a figure-level function with\n",
      "similar flexibility) or `histplot` (an axes-level function for histograms).\n",
      "\n",
      "For a guide to updating your code to use the new functions, please see\n",
      "https://gist.github.com/mwaskom/de44147ed2974457ad6372750bbe5751\n",
      "\n",
      "  hist = sns.distplot(data[colname],\n"
     ]
    },
    {
     "data": {
      "image/png": "[encoded data removed]",
      "text/plain": [
       "<Figure size 640x480 with 1 Axes>"
      ]
     },
     "metadata": {},
     "output_type": "display_data"
    }
   ],
   "source": [
    "# make a histogram for 'Workplace Resources' variable\n",
    "pretty_histogram(survey_coded, 'workplace_resources', 'Workplace Resources Score', save= True)"
   ]
  },
  {
   "cell_type": "markdown",
   "metadata": {},
   "source": [
    "**This one looks more normally distributed but still centered left of the zero, meaning that the majority of companies don't have many mental health resources**"
   ]
  },
  {
   "cell_type": "code",
   "execution_count": 21,
   "metadata": {},
   "outputs": [
    {
     "data": {
      "text/html": [
       "<div>\n",
       "<style scoped>\n",
       "    .dataframe tbody tr th:only-of-type {\n",
       "        vertical-align: middle;\n",
       "    }\n",
       "\n",
       "    .dataframe tbody tr th {\n",
       "        vertical-align: top;\n",
       "    }\n",
       "\n",
       "    .dataframe thead th {\n",
       "        text-align: right;\n",
       "    }\n",
       "</style>\n",
       "<table border=\"1\" class=\"dataframe\">\n",
       "  <thead>\n",
       "    <tr style=\"text-align: right;\">\n",
       "      <th></th>\n",
       "      <th>care_options</th>\n",
       "    </tr>\n",
       "    <tr>\n",
       "      <th>workplace_resources</th>\n",
       "      <th></th>\n",
       "    </tr>\n",
       "  </thead>\n",
       "  <tbody>\n",
       "    <tr>\n",
       "      <th>-6</th>\n",
       "      <td>0.400000</td>\n",
       "    </tr>\n",
       "    <tr>\n",
       "      <th>-5</th>\n",
       "      <td>0.441176</td>\n",
       "    </tr>\n",
       "    <tr>\n",
       "      <th>-4</th>\n",
       "      <td>0.333333</td>\n",
       "    </tr>\n",
       "    <tr>\n",
       "      <th>-3</th>\n",
       "      <td>0.215686</td>\n",
       "    </tr>\n",
       "    <tr>\n",
       "      <th>-2</th>\n",
       "      <td>0.180000</td>\n",
       "    </tr>\n",
       "    <tr>\n",
       "      <th>-1</th>\n",
       "      <td>0.176166</td>\n",
       "    </tr>\n",
       "    <tr>\n",
       "      <th>0</th>\n",
       "      <td>0.252809</td>\n",
       "    </tr>\n",
       "    <tr>\n",
       "      <th>1</th>\n",
       "      <td>0.377358</td>\n",
       "    </tr>\n",
       "    <tr>\n",
       "      <th>2</th>\n",
       "      <td>0.432990</td>\n",
       "    </tr>\n",
       "    <tr>\n",
       "      <th>3</th>\n",
       "      <td>0.519481</td>\n",
       "    </tr>\n",
       "    <tr>\n",
       "      <th>4</th>\n",
       "      <td>0.754386</td>\n",
       "    </tr>\n",
       "    <tr>\n",
       "      <th>5</th>\n",
       "      <td>0.829268</td>\n",
       "    </tr>\n",
       "    <tr>\n",
       "      <th>6</th>\n",
       "      <td>0.869565</td>\n",
       "    </tr>\n",
       "  </tbody>\n",
       "</table>\n",
       "</div>"
      ],
      "text/plain": [
       "                     care_options\n",
       "workplace_resources              \n",
       "-6                       0.400000\n",
       "-5                       0.441176\n",
       "-4                       0.333333\n",
       "-3                       0.215686\n",
       "-2                       0.180000\n",
       "-1                       0.176166\n",
       " 0                       0.252809\n",
       " 1                       0.377358\n",
       " 2                       0.432990\n",
       " 3                       0.519481\n",
       " 4                       0.754386\n",
       " 5                       0.829268\n",
       " 6                       0.869565"
      ]
     },
     "execution_count": 21,
     "metadata": {},
     "output_type": "execute_result"
    }
   ],
   "source": [
    "# interestingly to check the proportion of people aware of services to recode the values in the\n",
    "# care options column from 'No' = -1 to 'No' = 0\n",
    "survey_coded['care_options'].replace(to_replace=-1, value=0, inplace= True)\n",
    "survey_coded.pivot_table(index=['workplace_resources'], values=['care_options'], aggfunc= lambda x: sum(x)/len(x))"
   ]
  },
  {
   "cell_type": "code",
   "execution_count": 32,
   "metadata": {},
   "outputs": [
    {
     "data": {
      "image/png": "[encoded data removed]",
      "text/plain": [
       "<Figure size 640x480 with 1 Axes>"
      ]
     },
     "metadata": {},
     "output_type": "display_data"
    }
   ],
   "source": [
    "# plot proportions of people that know about care options for each score of workplace resource.\n",
    "\n",
    "label = 'Workplace Resources Score'\n",
    "\n",
    "bars = sns.barplot(x='workplace_resources', y='care_options', data= survey_coded, \n",
    "                   errorbar= None, color= flatui[4])\n",
    "\n",
    "bars.set(xlabel= label, ylabel= 'Proportion Employee Awareness')\n",
    "sns.despine()\n",
    "figure = bars.get_figure()\n",
    "figure.savefig('figures/resources_and_awareness.png')"
   ]
  },
  {
   "cell_type": "markdown",
   "metadata": {},
   "source": [
    "- **One possible interpretation here  is that the more services are available, more people know about them, and where there's none people ALSO know that.**"
   ]
  },
  {
   "cell_type": "code",
   "execution_count": 23,
   "metadata": {},
   "outputs": [],
   "source": [
    "# group by variable of interest, create a label and rename columns\n",
    "family_data = survey_coded.groupby('family_history').agg({'willingness':'mean'}).reset_index()\n",
    "family_data['label'] = ['Family History']*len(family_data)\n",
    "family_data.rename(columns= {'family_history':'Answer'}, inplace=True)\n",
    "\n",
    "treatment_data = survey_coded.groupby('treatment').agg({'willingness':'mean'}).reset_index()\n",
    "treatment_data['label'] = ['Treatment']*len(treatment_data)\n",
    "treatment_data.rename(columns= {'treatment':'Answer'}, inplace=True)\n",
    "\n",
    "willingness_variables = pd.concat([family_data, treatment_data], axis=0)\n",
    "willingness_variables.Answer.replace(to_replace=-1, value='No', inplace=True)\n",
    "willingness_variables.Answer.replace(to_replace=1, value='Yes', inplace=True)"
   ]
  },
  {
   "cell_type": "code",
   "execution_count": 24,
   "metadata": {},
   "outputs": [
    {
     "data": {
      "image/png": "[encoded data removed]",
      "text/plain": [
       "<Figure size 500x300 with 1 Axes>"
      ]
     },
     "metadata": {},
     "output_type": "display_data"
    }
   ],
   "source": [
    "# making a category bar plot\n",
    "fig, ax = plt.subplots(figsize=(5, 3))\n",
    "\n",
    "bars= sns.barplot(x=\"label\", y=\"willingness\", hue=\"Answer\", \n",
    "            palette= sns.color_palette(flatui[1:3]), \n",
    "            data=willingness_variables)\n",
    "\n",
    "def change_width(ax, new_value) :\n",
    "    for patch in ax.patches :\n",
    "        current_width = patch.get_width()\n",
    "        diff = current_width - new_value\n",
    "\n",
    "        # we change the bar width\n",
    "        patch.set_width(new_value)\n",
    "\n",
    "        # we recenter the bar\n",
    "        patch.set_x(patch.get_x() + diff * .5)\n",
    "\n",
    "\n",
    "change_width(ax, .37)\n",
    "sns.despine(bottom=True)\n",
    "bars.set(xlabel= '', ylabel= 'Willingness Score')\n",
    "bars.tick_params(axis='x', which='both', length=0)\n",
    "figure = bars.get_figure()\n",
    "figure.savefig('figures/history_treatment_willingness.png')"
   ]
  },
  {
   "cell_type": "code",
   "execution_count": 25,
   "metadata": {},
   "outputs": [
    {
     "data": {
      "image/png": "[encoded data removed]",
      "text/plain": [
       "<Figure size 500x300 with 1 Axes>"
      ]
     },
     "metadata": {},
     "output_type": "display_data"
    }
   ],
   "source": [
    "xlabel = 'Work Interfere'\n",
    "ylabel = 'Willingness Score'\n",
    "\n",
    "fig, ax = plt.subplots(figsize=(5, 3))\n",
    "bars = sns.barplot(x= 'work_interfere', y= 'willingness', data= survey_coded, color= flatui[-1], errwidth=0.75)\n",
    "\n",
    "bars.set(xlabel= xlabel, ylabel= ylabel, xticklabels=['Never', 'Rarely', \"Don't know\", 'Sometimes', 'Often'])\n",
    "bars.set_xticklabels(['Never', 'Rarely', \"Don't know\", 'Sometimes', 'Often'], rotation=30)\n",
    "bars.set()\n",
    "sns.despine(bottom= True)\n",
    "change_width(ax, .95)\n",
    "bars.tick_params(axis='x', which='both', length=0)\n",
    "\n",
    "figure = bars.get_figure()\n",
    "figure.savefig('figures/work_interfere_willingness.png')"
   ]
  },
  {
   "cell_type": "code",
   "execution_count": 26,
   "metadata": {},
   "outputs": [
    {
     "data": {
      "text/html": [
       "<div>\n",
       "<style scoped>\n",
       "    .dataframe tbody tr th:only-of-type {\n",
       "        vertical-align: middle;\n",
       "    }\n",
       "\n",
       "    .dataframe tbody tr th {\n",
       "        vertical-align: top;\n",
       "    }\n",
       "\n",
       "    .dataframe thead th {\n",
       "        text-align: right;\n",
       "    }\n",
       "</style>\n",
       "<table border=\"1\" class=\"dataframe\">\n",
       "  <thead>\n",
       "    <tr style=\"text-align: right;\">\n",
       "      <th></th>\n",
       "      <th>willingness</th>\n",
       "    </tr>\n",
       "    <tr>\n",
       "      <th>gender</th>\n",
       "      <th></th>\n",
       "    </tr>\n",
       "  </thead>\n",
       "  <tbody>\n",
       "    <tr>\n",
       "      <th>-1</th>\n",
       "      <td>-0.659404</td>\n",
       "    </tr>\n",
       "    <tr>\n",
       "      <th>0</th>\n",
       "      <td>-0.615385</td>\n",
       "    </tr>\n",
       "    <tr>\n",
       "      <th>1</th>\n",
       "      <td>-1.053333</td>\n",
       "    </tr>\n",
       "  </tbody>\n",
       "</table>\n",
       "</div>"
      ],
      "text/plain": [
       "        willingness\n",
       "gender             \n",
       "-1        -0.659404\n",
       " 0        -0.615385\n",
       " 1        -1.053333"
      ]
     },
     "execution_count": 26,
     "metadata": {},
     "output_type": "execute_result"
    }
   ],
   "source": [
    "# gender willingness might not be useful\n",
    "gender_willingness = survey_coded.groupby('gender').agg({'willingness':'mean'})\n",
    "gender_willingness"
   ]
  },
  {
   "cell_type": "markdown",
   "metadata": {},
   "source": [
    "- Women are less likely to open up about mental health . If we consider that tech is a male-dominated industry where perhaps climbing up the ladder as a woman is significantly harder , this makes sense."
   ]
  },
  {
   "cell_type": "code",
   "execution_count": 27,
   "metadata": {},
   "outputs": [
    {
     "data": {
      "text/html": [
       "<div>\n",
       "<style scoped>\n",
       "    .dataframe tbody tr th:only-of-type {\n",
       "        vertical-align: middle;\n",
       "    }\n",
       "\n",
       "    .dataframe tbody tr th {\n",
       "        vertical-align: top;\n",
       "    }\n",
       "\n",
       "    .dataframe thead th {\n",
       "        text-align: right;\n",
       "    }\n",
       "</style>\n",
       "<table border=\"1\" class=\"dataframe\">\n",
       "  <thead>\n",
       "    <tr style=\"text-align: right;\">\n",
       "      <th></th>\n",
       "      <th>willingness</th>\n",
       "    </tr>\n",
       "    <tr>\n",
       "      <th>workplace_resources</th>\n",
       "      <th></th>\n",
       "    </tr>\n",
       "  </thead>\n",
       "  <tbody>\n",
       "    <tr>\n",
       "      <th>-6</th>\n",
       "      <td>-2.600000</td>\n",
       "    </tr>\n",
       "    <tr>\n",
       "      <th>-5</th>\n",
       "      <td>-1.323529</td>\n",
       "    </tr>\n",
       "    <tr>\n",
       "      <th>-4</th>\n",
       "      <td>-1.000000</td>\n",
       "    </tr>\n",
       "    <tr>\n",
       "      <th>-3</th>\n",
       "      <td>-1.333333</td>\n",
       "    </tr>\n",
       "    <tr>\n",
       "      <th>-2</th>\n",
       "      <td>-0.820000</td>\n",
       "    </tr>\n",
       "    <tr>\n",
       "      <th>-1</th>\n",
       "      <td>-0.782383</td>\n",
       "    </tr>\n",
       "    <tr>\n",
       "      <th>0</th>\n",
       "      <td>-0.752809</td>\n",
       "    </tr>\n",
       "    <tr>\n",
       "      <th>1</th>\n",
       "      <td>-0.641509</td>\n",
       "    </tr>\n",
       "    <tr>\n",
       "      <th>2</th>\n",
       "      <td>-0.453608</td>\n",
       "    </tr>\n",
       "    <tr>\n",
       "      <th>3</th>\n",
       "      <td>-0.441558</td>\n",
       "    </tr>\n",
       "    <tr>\n",
       "      <th>4</th>\n",
       "      <td>0.070175</td>\n",
       "    </tr>\n",
       "    <tr>\n",
       "      <th>5</th>\n",
       "      <td>-0.707317</td>\n",
       "    </tr>\n",
       "    <tr>\n",
       "      <th>6</th>\n",
       "      <td>0.347826</td>\n",
       "    </tr>\n",
       "  </tbody>\n",
       "</table>\n",
       "</div>"
      ],
      "text/plain": [
       "                     willingness\n",
       "workplace_resources             \n",
       "-6                     -2.600000\n",
       "-5                     -1.323529\n",
       "-4                     -1.000000\n",
       "-3                     -1.333333\n",
       "-2                     -0.820000\n",
       "-1                     -0.782383\n",
       " 0                     -0.752809\n",
       " 1                     -0.641509\n",
       " 2                     -0.453608\n",
       " 3                     -0.441558\n",
       " 4                      0.070175\n",
       " 5                     -0.707317\n",
       " 6                      0.347826"
      ]
     },
     "execution_count": 27,
     "metadata": {},
     "output_type": "execute_result"
    }
   ],
   "source": [
    "willingness_treatment = survey_coded.groupby('workplace_resources').agg({'willingness':'mean'})\n",
    "willingness_treatment"
   ]
  },
  {
   "cell_type": "code",
   "execution_count": 28,
   "metadata": {},
   "outputs": [
    {
     "data": {
      "image/png": "[encoded data removed]",
      "text/plain": [
       "<Figure size 640x480 with 1 Axes>"
      ]
     },
     "metadata": {},
     "output_type": "display_data"
    }
   ],
   "source": [
    "# create a bar plot with the average willingness score for each workplace resourses category\n",
    "xlabel = 'Workplace Resources Score'\n",
    "ylabel = 'Willingness Score'\n",
    "\n",
    "fig, ax = plt.subplots()\n",
    "bars = sns.barplot(x='workplace_resources', y='willingness', data= survey_coded, \n",
    "                   color= flatui[3], errwidth=0.75)\n",
    "\n",
    "bars.set(xlabel= xlabel, ylabel= ylabel)\n",
    "sns.despine()\n",
    "change_width(ax, .9)\n",
    "figure = bars.get_figure()\n",
    "figure.savefig('figures/resources_willingness.png')"
   ]
  },
  {
   "cell_type": "markdown",
   "metadata": {},
   "source": [
    "- **To see if this connection is real and measurable, we took the raw data and performed a linear regression.In simple terms, we built a simple mathematical model to find out if we can accurately predict a person's \"willingness score\" just by knowing how many \"workplace resources\" their company provides.**"
   ]
  },
  {
   "cell_type": "code",
   "execution_count": 29,
   "metadata": {},
   "outputs": [
    {
     "name": "stdout",
     "output_type": "stream",
     "text": [
      "The slope is: 0.1253597181423454\n",
      "The intercept is: -0.7280097538526822\n",
      "The r_value is: 0.044725026501352225\n",
      "The std error is: 0.01740512006838772\n",
      "1.090037487724972e-12\n"
     ]
    }
   ],
   "source": [
    "# linear regression\n",
    "x = survey_coded['workplace_resources']\n",
    "y = survey_coded['willingness']\n",
    "\n",
    "slope, intercept, r_value, p_value, std_err = stats.linregress(x, y)\n",
    "\n",
    "print ('The slope is: ' + str(slope))\n",
    "print ('The intercept is: ' + str(intercept))\n",
    "print ('The r_value is: ' + str(r_value**2))\n",
    "print ('The std error is: ' + str(std_err))\n",
    "print(p_value)"
   ]
  },
  {
   "cell_type": "code",
   "execution_count": 31,
   "metadata": {},
   "outputs": [
    {
     "data": {
      "image/png": "[encoded data removed]",
      "text/plain": [
       "<Figure size 640x480 with 1 Axes>"
      ]
     },
     "metadata": {},
     "output_type": "display_data"
    }
   ],
   "source": [
    "\n",
    "xlabel = 'Workplace Resources Score'\n",
    "ylabel = 'Willingness Score'\n",
    "\n",
    "reg = sns.regplot(x=x, y=y, x_estimator=np.mean,\n",
    "                  scatter_kws={'color':flatui[3]},\n",
    "                  line_kws = {'color':flatui[3],\n",
    "                              'ls':'dashed'})\n",
    "\n",
    "reg.set(xlabel= xlabel, ylabel= ylabel)\n",
    "sns.despine()\n",
    "figure = reg.get_figure()\n",
    "figure.savefig('figures/resources_willingness_regplot.png')"
   ]
  },
  {
   "cell_type": "markdown",
   "metadata": {},
   "source": [
    "- **The Connection is Weak: Our test didn't show a strong link between company resources and a person's willingness score. BUT!**\n",
    "- **Why It Still Matters: Even though this is a small effect—it doesn't explain much of the overall change—we shouldn't ignore it. When dealing with something complex like mental health behavior, lots of tiny factors are at play.**"
   ]
  },
  {
   "cell_type": "code",
   "execution_count": null,
   "metadata": {},
   "outputs": [],
   "source": []
  }
 ],
 "metadata": {
  "kernelspec": {
   "display_name": "Python 3 (ipykernel)",
   "language": "python",
   "name": "python3"
  },
  "language_info": {
   "codemirror_mode": {
    "name": "ipython",
    "version": 3
   },
   "file_extension": ".py",
   "mimetype": "text/x-python",
   "name": "python",
   "nbconvert_exporter": "python",
   "pygments_lexer": "ipython3",
   "version": "3.11.7"
  }
 },
 "nbformat": 4,
 "nbformat_minor": 4
}
